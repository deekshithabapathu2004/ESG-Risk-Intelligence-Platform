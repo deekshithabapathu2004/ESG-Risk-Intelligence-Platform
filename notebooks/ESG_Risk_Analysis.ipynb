{
 "cells": [
  {
   "cell_type": "code",
   "execution_count": 16,
   "id": "1b462ad8-1e29-4ba1-a992-97b3ea52096f",
   "metadata": {},
   "outputs": [
    {
     "name": "stdout",
     "output_type": "stream",
     "text": [
      " First row of raw data:\n",
      "['CompanyID', 'CompanyName', 'Industry', 'Region', 'Year', 'Revenue', 'ProfitMargin', 'MarketCap', 'GrowthRate', 'ESG_Overall', 'ESG_Environmental', 'ESG_Social', 'ESG_Governance', 'CarbonEmissions', 'WaterUsage', 'EnergyConsumption']\n",
      "\n",
      " Cleaned data (first 5 rows):\n"
     ]
    },
    {
     "data": {
      "text/html": [
       "<div>\n",
       "<style scoped>\n",
       "    .dataframe tbody tr th:only-of-type {\n",
       "        vertical-align: middle;\n",
       "    }\n",
       "\n",
       "    .dataframe tbody tr th {\n",
       "        vertical-align: top;\n",
       "    }\n",
       "\n",
       "    .dataframe thead th {\n",
       "        text-align: right;\n",
       "    }\n",
       "</style>\n",
       "<table border=\"1\" class=\"dataframe\">\n",
       "  <thead>\n",
       "    <tr style=\"text-align: right;\">\n",
       "      <th></th>\n",
       "      <th>company_id</th>\n",
       "      <th>company_name</th>\n",
       "      <th>industry</th>\n",
       "      <th>region</th>\n",
       "      <th>year</th>\n",
       "      <th>revenue</th>\n",
       "      <th>profit_margin</th>\n",
       "      <th>market_cap</th>\n",
       "      <th>growth_rate</th>\n",
       "      <th>esg_overall</th>\n",
       "      <th>esg_environmental</th>\n",
       "      <th>esg_social</th>\n",
       "      <th>esg_governance</th>\n",
       "      <th>carbon_emissions</th>\n",
       "      <th>water_usage</th>\n",
       "      <th>energy_consumption</th>\n",
       "    </tr>\n",
       "  </thead>\n",
       "  <tbody>\n",
       "    <tr>\n",
       "      <th>0</th>\n",
       "      <td>1</td>\n",
       "      <td>Company_1</td>\n",
       "      <td>Retail</td>\n",
       "      <td>Latin America</td>\n",
       "      <td>2015</td>\n",
       "      <td>459.2</td>\n",
       "      <td>6.0</td>\n",
       "      <td>337.5</td>\n",
       "      <td>NaN</td>\n",
       "      <td>57.0</td>\n",
       "      <td>60.7</td>\n",
       "      <td>33.5</td>\n",
       "      <td>76.8</td>\n",
       "      <td>35577.4</td>\n",
       "      <td>17788.7</td>\n",
       "      <td>71154.7</td>\n",
       "    </tr>\n",
       "    <tr>\n",
       "      <th>1</th>\n",
       "      <td>1</td>\n",
       "      <td>Company_1</td>\n",
       "      <td>Retail</td>\n",
       "      <td>Latin America</td>\n",
       "      <td>2016</td>\n",
       "      <td>473.8</td>\n",
       "      <td>4.6</td>\n",
       "      <td>366.6</td>\n",
       "      <td>3.2</td>\n",
       "      <td>56.7</td>\n",
       "      <td>58.9</td>\n",
       "      <td>32.8</td>\n",
       "      <td>78.5</td>\n",
       "      <td>37314.7</td>\n",
       "      <td>18657.4</td>\n",
       "      <td>74629.4</td>\n",
       "    </tr>\n",
       "    <tr>\n",
       "      <th>2</th>\n",
       "      <td>1</td>\n",
       "      <td>Company_1</td>\n",
       "      <td>Retail</td>\n",
       "      <td>Latin America</td>\n",
       "      <td>2017</td>\n",
       "      <td>564.9</td>\n",
       "      <td>5.2</td>\n",
       "      <td>313.4</td>\n",
       "      <td>19.2</td>\n",
       "      <td>56.5</td>\n",
       "      <td>57.6</td>\n",
       "      <td>34.0</td>\n",
       "      <td>77.8</td>\n",
       "      <td>45006.4</td>\n",
       "      <td>22503.2</td>\n",
       "      <td>90012.9</td>\n",
       "    </tr>\n",
       "    <tr>\n",
       "      <th>3</th>\n",
       "      <td>1</td>\n",
       "      <td>Company_1</td>\n",
       "      <td>Retail</td>\n",
       "      <td>Latin America</td>\n",
       "      <td>2018</td>\n",
       "      <td>558.4</td>\n",
       "      <td>4.3</td>\n",
       "      <td>283.0</td>\n",
       "      <td>-1.1</td>\n",
       "      <td>58.0</td>\n",
       "      <td>62.3</td>\n",
       "      <td>33.4</td>\n",
       "      <td>78.3</td>\n",
       "      <td>42650.1</td>\n",
       "      <td>21325.1</td>\n",
       "      <td>85300.2</td>\n",
       "    </tr>\n",
       "    <tr>\n",
       "      <th>4</th>\n",
       "      <td>1</td>\n",
       "      <td>Company_1</td>\n",
       "      <td>Retail</td>\n",
       "      <td>Latin America</td>\n",
       "      <td>2019</td>\n",
       "      <td>554.5</td>\n",
       "      <td>4.9</td>\n",
       "      <td>538.1</td>\n",
       "      <td>-0.7</td>\n",
       "      <td>56.6</td>\n",
       "      <td>63.7</td>\n",
       "      <td>30.0</td>\n",
       "      <td>76.1</td>\n",
       "      <td>41799.4</td>\n",
       "      <td>20899.7</td>\n",
       "      <td>83598.8</td>\n",
       "    </tr>\n",
       "  </tbody>\n",
       "</table>\n",
       "</div>"
      ],
      "text/plain": [
       "  company_id company_name industry         region  year  revenue  \\\n",
       "0          1    Company_1   Retail  Latin America  2015    459.2   \n",
       "1          1    Company_1   Retail  Latin America  2016    473.8   \n",
       "2          1    Company_1   Retail  Latin America  2017    564.9   \n",
       "3          1    Company_1   Retail  Latin America  2018    558.4   \n",
       "4          1    Company_1   Retail  Latin America  2019    554.5   \n",
       "\n",
       "   profit_margin  market_cap  growth_rate  esg_overall  esg_environmental  \\\n",
       "0            6.0       337.5          NaN         57.0               60.7   \n",
       "1            4.6       366.6          3.2         56.7               58.9   \n",
       "2            5.2       313.4         19.2         56.5               57.6   \n",
       "3            4.3       283.0         -1.1         58.0               62.3   \n",
       "4            4.9       538.1         -0.7         56.6               63.7   \n",
       "\n",
       "   esg_social  esg_governance  carbon_emissions  water_usage  \\\n",
       "0        33.5            76.8           35577.4      17788.7   \n",
       "1        32.8            78.5           37314.7      18657.4   \n",
       "2        34.0            77.8           45006.4      22503.2   \n",
       "3        33.4            78.3           42650.1      21325.1   \n",
       "4        30.0            76.1           41799.4      20899.7   \n",
       "\n",
       "   energy_consumption  \n",
       "0             71154.7  \n",
       "1             74629.4  \n",
       "2             90012.9  \n",
       "3             85300.2  \n",
       "4             83598.8  "
      ]
     },
     "execution_count": 16,
     "metadata": {},
     "output_type": "execute_result"
    }
   ],
   "source": [
    "# Step 1: Import pandas\n",
    "import pandas as pd\n",
    "\n",
    "# Step 2: Load the dataset (no header)\n",
    "df = pd.read_csv(\"data/company_esg_financial_dataset.csv\", header=None)\n",
    "\n",
    "# Step 3: Check the first row to see if it's a header or real data\n",
    "print(\" First row of raw data:\")\n",
    "print(df.iloc[0].tolist())\n",
    "\n",
    "# Step 4: Assign proper column names\n",
    "columns = [\n",
    "    \"company_id\", \"company_name\", \"industry\", \"region\", \"year\",\n",
    "    \"revenue\", \"profit_margin\", \"market_cap\", \"growth_rate\",\n",
    "    \"esg_overall\", \"esg_environmental\", \"esg_social\", \"esg_governance\",\n",
    "    \"carbon_emissions\", \"water_usage\", \"energy_consumption\"\n",
    "]\n",
    "\n",
    "# Step 5: If the first row looks like real data (e.g., \"Company_1\", \"Retail\"...), keep it.\n",
    "# But if it looks like [\"CompanyID\", \"CompanyName\", ...], then skip it.\n",
    "first_row = df.iloc[0].astype(str).str.lower().tolist()\n",
    "if \"companyid\" in first_row or \"company_id\" in first_row or \"companyname\" in first_row:\n",
    "    # Drop the first row (it's a header)\n",
    "    df = df.iloc[1:].copy()\n",
    "\n",
    "# Now assign column names\n",
    "df.columns = columns\n",
    "\n",
    "# Step 6: Reset index and convert numeric columns\n",
    "df = df.reset_index(drop=True)\n",
    "numeric_cols = [\n",
    "    \"year\", \"revenue\", \"profit_margin\", \"market_cap\", \"growth_rate\",\n",
    "    \"esg_overall\", \"esg_environmental\", \"esg_social\", \"esg_governance\",\n",
    "    \"carbon_emissions\", \"water_usage\", \"energy_consumption\"\n",
    "]\n",
    "df[numeric_cols] = df[numeric_cols].apply(pd.to_numeric, errors='coerce')\n",
    "\n",
    "# Step 7: Show the first 5 clean rows\n",
    "print(\"\\n Cleaned data (first 5 rows):\")\n",
    "df.head()"
   ]
  },
  {
   "cell_type": "code",
   "execution_count": 17,
   "id": "8e142d17-db51-4915-b01c-326121177647",
   "metadata": {},
   "outputs": [
    {
     "name": "stdout",
     "output_type": "stream",
     "text": [
      " Dataset Info:\n",
      "<class 'pandas.core.frame.DataFrame'>\n",
      "RangeIndex: 11000 entries, 0 to 10999\n",
      "Data columns (total 16 columns):\n",
      " #   Column              Non-Null Count  Dtype  \n",
      "---  ------              --------------  -----  \n",
      " 0   company_id          11000 non-null  object \n",
      " 1   company_name        11000 non-null  object \n",
      " 2   industry            11000 non-null  object \n",
      " 3   region              11000 non-null  object \n",
      " 4   year                11000 non-null  int64  \n",
      " 5   revenue             11000 non-null  float64\n",
      " 6   profit_margin       11000 non-null  float64\n",
      " 7   market_cap          11000 non-null  float64\n",
      " 8   growth_rate         10000 non-null  float64\n",
      " 9   esg_overall         11000 non-null  float64\n",
      " 10  esg_environmental   11000 non-null  float64\n",
      " 11  esg_social          11000 non-null  float64\n",
      " 12  esg_governance      11000 non-null  float64\n",
      " 13  carbon_emissions    11000 non-null  float64\n",
      " 14  water_usage         11000 non-null  float64\n",
      " 15  energy_consumption  11000 non-null  float64\n",
      "dtypes: float64(11), int64(1), object(4)\n",
      "memory usage: 1.3+ MB\n",
      "\n",
      " Summary Statistics:\n",
      "\n",
      " Unique Regions:\n",
      "['Latin America' 'Asia' 'Africa' 'Middle East' 'Oceania' 'Europe'\n",
      " 'North America']\n",
      "\n",
      " Unique Industries:\n",
      "['Retail' 'Transportation' 'Technology' 'Finance' 'Healthcare' 'Energy'\n",
      " 'Consumer Goods' 'Utilities' 'Manufacturing']\n"
     ]
    }
   ],
   "source": [
    "# Step 4: Check basic info about the dataset\n",
    "print(\" Dataset Info:\")\n",
    "df.info()\n",
    "\n",
    "print(\"\\n Summary Statistics:\")\n",
    "df.describe()\n",
    "\n",
    "print(\"\\n Unique Regions:\")\n",
    "print(df['region'].unique())\n",
    "\n",
    "print(\"\\n Unique Industries:\")\n",
    "print(df['industry'].unique())"
   ]
  },
  {
   "cell_type": "code",
   "execution_count": 18,
   "id": "ab397912-9440-4857-9314-a98919a65ce3",
   "metadata": {},
   "outputs": [
    {
     "name": "stdout",
     "output_type": "stream",
     "text": [
      " Top 10 High-Risk Companies (2025):\n",
      "     company_name        industry         region  esg_overall  risk_score\n",
      "3420  Company_311  Consumer Goods    Middle East         14.3   18.229655\n",
      "923    Company_84  Consumer Goods    Middle East         18.1   16.499655\n",
      "538    Company_49          Retail    Middle East         18.7   16.285660\n",
      "3321  Company_302          Energy  Latin America         16.1   15.891852\n",
      "4113  Company_374      Healthcare         Africa         23.8   15.595124\n",
      "1209  Company_110      Healthcare    Middle East         26.6   14.175124\n",
      "2166  Company_197          Energy  Latin America         19.1   14.061852\n",
      "4784  Company_435          Retail    Middle East         24.9   13.895660\n",
      "1550  Company_141          Energy         Africa         17.8   13.861852\n",
      "2034  Company_185  Transportation  Latin America         16.5   13.844103\n"
     ]
    }
   ],
   "source": [
    "# Step 1: Calculate ESG trend (3-year change)\n",
    "df['esg_trend'] = df.groupby('company_name')['esg_overall'].diff(periods=1)\n",
    "\n",
    "# Step 2: Calculate industry average ESG (by year + industry)\n",
    "df['industry_avg_esg'] = df.groupby(['industry', 'year'])['esg_overall'].transform('mean')\n",
    "\n",
    "# Step 3: Calculate ESG gap (company vs industry)\n",
    "df['esg_gap'] = df['esg_overall'] - df['industry_avg_esg']\n",
    "\n",
    "# Step 4: Calculate profit margin trend (1-year change)\n",
    "df['profit_trend'] = df.groupby('company_name')['profit_margin'].diff(periods=1)\n",
    "\n",
    "# Step 5: Define Risk Score (higher = higher risk)\n",
    "# We penalize: declining ESG, below-industry ESG, and falling profits\n",
    "df['risk_score'] = (\n",
    "    (0.4 * df['esg_gap'].clip(upper=0).abs()) +        # Only penalize if BELOW industry\n",
    "    (0.3 * df['esg_trend'].clip(upper=0).abs()) +      # Only penalize if ESG is DECLINING\n",
    "    (0.3 * df['profit_trend'].clip(upper=0).abs())     # Only penalize if profit is FALLING\n",
    ")\n",
    "\n",
    "# Step 6: Keep only the latest year (2025) for dashboard\n",
    "latest_df = df[df['year'] == 2025].copy()\n",
    "\n",
    "# Step 7: Show top 10 high-risk companies\n",
    "print(\" Top 10 High-Risk Companies (2025):\")\n",
    "print(latest_df[['company_name', 'industry', 'region', 'esg_overall', 'risk_score']]\n",
    "      .sort_values('risk_score', ascending=False)\n",
    "      .head(10))"
   ]
  },
  {
   "cell_type": "code",
   "execution_count": 13,
   "id": "fbb03d51-a3a6-479e-81a9-554c4d71f5d8",
   "metadata": {},
   "outputs": [
    {
     "name": "stdout",
     "output_type": "stream",
     "text": [
      "Defaulting to user installation because normal site-packages is not writeable\n",
      "Requirement already satisfied: plotly in c:\\programdata\\anaconda3\\lib\\site-packages (5.9.0)\n",
      "Requirement already satisfied: tenacity>=6.2.0 in c:\\programdata\\anaconda3\\lib\\site-packages (from plotly) (8.2.2)\n"
     ]
    }
   ],
   "source": [
    "!pip install plotly\n"
   ]
  },
  {
   "cell_type": "code",
   "execution_count": 19,
   "id": "6dfc4524-cebd-450a-9bba-6ff0fefd6b68",
   "metadata": {},
   "outputs": [
    {
     "data": {
      "application/vnd.plotly.v1+json": {
       "config": {
        "plotlyServerURL": "https://plot.ly"
       },
       "data": [
        {
         "coloraxis": "coloraxis",
         "histfunc": "sum",
         "hovertemplate": "industry=%{x}<br>region=%{y}<br>sum of Avg Risk Score=%{z}<extra></extra>",
         "name": "",
         "type": "histogram2d",
         "x": [
          "Consumer Goods",
          "Energy",
          "Finance",
          "Healthcare",
          "Manufacturing",
          "Retail",
          "Technology",
          "Transportation",
          "Utilities",
          "Consumer Goods",
          "Energy",
          "Finance",
          "Healthcare",
          "Manufacturing",
          "Retail",
          "Technology",
          "Transportation",
          "Utilities",
          "Consumer Goods",
          "Energy",
          "Finance",
          "Healthcare",
          "Manufacturing",
          "Retail",
          "Technology",
          "Transportation",
          "Utilities",
          "Consumer Goods",
          "Energy",
          "Finance",
          "Healthcare",
          "Manufacturing",
          "Retail",
          "Technology",
          "Transportation",
          "Utilities",
          "Consumer Goods",
          "Energy",
          "Finance",
          "Healthcare",
          "Manufacturing",
          "Retail",
          "Technology",
          "Transportation",
          "Utilities",
          "Consumer Goods",
          "Energy",
          "Finance",
          "Healthcare",
          "Manufacturing",
          "Retail",
          "Technology",
          "Transportation",
          "Utilities",
          "Consumer Goods",
          "Energy",
          "Finance",
          "Healthcare",
          "Manufacturing",
          "Retail",
          "Technology",
          "Transportation",
          "Utilities"
         ],
         "xaxis": "x",
         "xbingroup": "x",
         "y": [
          "Africa",
          "Africa",
          "Africa",
          "Africa",
          "Africa",
          "Africa",
          "Africa",
          "Africa",
          "Africa",
          "Asia",
          "Asia",
          "Asia",
          "Asia",
          "Asia",
          "Asia",
          "Asia",
          "Asia",
          "Asia",
          "Europe",
          "Europe",
          "Europe",
          "Europe",
          "Europe",
          "Europe",
          "Europe",
          "Europe",
          "Europe",
          "Latin America",
          "Latin America",
          "Latin America",
          "Latin America",
          "Latin America",
          "Latin America",
          "Latin America",
          "Latin America",
          "Latin America",
          "Middle East",
          "Middle East",
          "Middle East",
          "Middle East",
          "Middle East",
          "Middle East",
          "Middle East",
          "Middle East",
          "Middle East",
          "North America",
          "North America",
          "North America",
          "North America",
          "North America",
          "North America",
          "North America",
          "North America",
          "North America",
          "Oceania",
          "Oceania",
          "Oceania",
          "Oceania",
          "Oceania",
          "Oceania",
          "Oceania",
          "Oceania",
          "Oceania"
         ],
         "yaxis": "y",
         "ybingroup": "y",
         "z": [
          4.667057471264369,
          4.81800411522634,
          4.886283185840707,
          6.229345200254292,
          4.904740740740739,
          2.6057816711590314,
          4.966097744360902,
          4.331410256410255,
          5.515387575590985,
          2.5913793103448275,
          4.007435897435899,
          2.072458210422811,
          3.2624112785610118,
          2.8643209876543207,
          2.436497641509435,
          4.9580300751879705,
          1.9660535117056848,
          3.137102803738319,
          0.704109195402299,
          0.9390946502057615,
          0.6261504424778757,
          0.7847629404088734,
          1.2122222222222223,
          0.6525825471698119,
          0.35785714285714326,
          0.5721911421911419,
          1.1576305662451902,
          3.644159482758621,
          5.0768981481481505,
          2.256694690265485,
          3.1660072314049588,
          2.8046153846153845,
          3.078234501347711,
          3.5388803827751194,
          3.867834757834757,
          1.9668799424874202,
          6.384294670846396,
          5.6800308641975334,
          6.106194690265486,
          5.92667681600696,
          5.043271604938272,
          6.073605870020966,
          3.3240375939849627,
          5.480345596432551,
          4.143781931464176,
          1.1130490018148822,
          1.2766448801742931,
          0.6939006126616746,
          0.9446694214876035,
          1.7108771929824558,
          1.1054986522911057,
          1.014396284829722,
          0.3950000000000002,
          1.3714766355140187,
          1.3715804597701151,
          0.6245502645502652,
          0.9617846607669613,
          0.5372008623787281,
          1.325906432748538,
          1.6202830188679254,
          0.5735311004784692,
          1.7844729344729338,
          0.5142056074766357
         ]
        }
       ],
       "layout": {
        "coloraxis": {
         "colorbar": {
          "title": {
           "text": "sum of Avg Risk Score"
          }
         },
         "colorscale": [
          [
           0,
           "rgb(255,245,240)"
          ],
          [
           0.125,
           "rgb(254,224,210)"
          ],
          [
           0.25,
           "rgb(252,187,161)"
          ],
          [
           0.375,
           "rgb(252,146,114)"
          ],
          [
           0.5,
           "rgb(251,106,74)"
          ],
          [
           0.625,
           "rgb(239,59,44)"
          ],
          [
           0.75,
           "rgb(203,24,29)"
          ],
          [
           0.875,
           "rgb(165,15,21)"
          ],
          [
           1,
           "rgb(103,0,13)"
          ]
         ]
        },
        "height": 500,
        "legend": {
         "tracegroupgap": 0
        },
        "template": {
         "data": {
          "bar": [
           {
            "error_x": {
             "color": "#2a3f5f"
            },
            "error_y": {
             "color": "#2a3f5f"
            },
            "marker": {
             "line": {
              "color": "#E5ECF6",
              "width": 0.5
             },
             "pattern": {
              "fillmode": "overlay",
              "size": 10,
              "solidity": 0.2
             }
            },
            "type": "bar"
           }
          ],
          "barpolar": [
           {
            "marker": {
             "line": {
              "color": "#E5ECF6",
              "width": 0.5
             },
             "pattern": {
              "fillmode": "overlay",
              "size": 10,
              "solidity": 0.2
             }
            },
            "type": "barpolar"
           }
          ],
          "carpet": [
           {
            "aaxis": {
             "endlinecolor": "#2a3f5f",
             "gridcolor": "white",
             "linecolor": "white",
             "minorgridcolor": "white",
             "startlinecolor": "#2a3f5f"
            },
            "baxis": {
             "endlinecolor": "#2a3f5f",
             "gridcolor": "white",
             "linecolor": "white",
             "minorgridcolor": "white",
             "startlinecolor": "#2a3f5f"
            },
            "type": "carpet"
           }
          ],
          "choropleth": [
           {
            "colorbar": {
             "outlinewidth": 0,
             "ticks": ""
            },
            "type": "choropleth"
           }
          ],
          "contour": [
           {
            "colorbar": {
             "outlinewidth": 0,
             "ticks": ""
            },
            "colorscale": [
             [
              0,
              "#0d0887"
             ],
             [
              0.1111111111111111,
              "#46039f"
             ],
             [
              0.2222222222222222,
              "#7201a8"
             ],
             [
              0.3333333333333333,
              "#9c179e"
             ],
             [
              0.4444444444444444,
              "#bd3786"
             ],
             [
              0.5555555555555556,
              "#d8576b"
             ],
             [
              0.6666666666666666,
              "#ed7953"
             ],
             [
              0.7777777777777778,
              "#fb9f3a"
             ],
             [
              0.8888888888888888,
              "#fdca26"
             ],
             [
              1,
              "#f0f921"
             ]
            ],
            "type": "contour"
           }
          ],
          "contourcarpet": [
           {
            "colorbar": {
             "outlinewidth": 0,
             "ticks": ""
            },
            "type": "contourcarpet"
           }
          ],
          "heatmap": [
           {
            "colorbar": {
             "outlinewidth": 0,
             "ticks": ""
            },
            "colorscale": [
             [
              0,
              "#0d0887"
             ],
             [
              0.1111111111111111,
              "#46039f"
             ],
             [
              0.2222222222222222,
              "#7201a8"
             ],
             [
              0.3333333333333333,
              "#9c179e"
             ],
             [
              0.4444444444444444,
              "#bd3786"
             ],
             [
              0.5555555555555556,
              "#d8576b"
             ],
             [
              0.6666666666666666,
              "#ed7953"
             ],
             [
              0.7777777777777778,
              "#fb9f3a"
             ],
             [
              0.8888888888888888,
              "#fdca26"
             ],
             [
              1,
              "#f0f921"
             ]
            ],
            "type": "heatmap"
           }
          ],
          "heatmapgl": [
           {
            "colorbar": {
             "outlinewidth": 0,
             "ticks": ""
            },
            "colorscale": [
             [
              0,
              "#0d0887"
             ],
             [
              0.1111111111111111,
              "#46039f"
             ],
             [
              0.2222222222222222,
              "#7201a8"
             ],
             [
              0.3333333333333333,
              "#9c179e"
             ],
             [
              0.4444444444444444,
              "#bd3786"
             ],
             [
              0.5555555555555556,
              "#d8576b"
             ],
             [
              0.6666666666666666,
              "#ed7953"
             ],
             [
              0.7777777777777778,
              "#fb9f3a"
             ],
             [
              0.8888888888888888,
              "#fdca26"
             ],
             [
              1,
              "#f0f921"
             ]
            ],
            "type": "heatmapgl"
           }
          ],
          "histogram": [
           {
            "marker": {
             "pattern": {
              "fillmode": "overlay",
              "size": 10,
              "solidity": 0.2
             }
            },
            "type": "histogram"
           }
          ],
          "histogram2d": [
           {
            "colorbar": {
             "outlinewidth": 0,
             "ticks": ""
            },
            "colorscale": [
             [
              0,
              "#0d0887"
             ],
             [
              0.1111111111111111,
              "#46039f"
             ],
             [
              0.2222222222222222,
              "#7201a8"
             ],
             [
              0.3333333333333333,
              "#9c179e"
             ],
             [
              0.4444444444444444,
              "#bd3786"
             ],
             [
              0.5555555555555556,
              "#d8576b"
             ],
             [
              0.6666666666666666,
              "#ed7953"
             ],
             [
              0.7777777777777778,
              "#fb9f3a"
             ],
             [
              0.8888888888888888,
              "#fdca26"
             ],
             [
              1,
              "#f0f921"
             ]
            ],
            "type": "histogram2d"
           }
          ],
          "histogram2dcontour": [
           {
            "colorbar": {
             "outlinewidth": 0,
             "ticks": ""
            },
            "colorscale": [
             [
              0,
              "#0d0887"
             ],
             [
              0.1111111111111111,
              "#46039f"
             ],
             [
              0.2222222222222222,
              "#7201a8"
             ],
             [
              0.3333333333333333,
              "#9c179e"
             ],
             [
              0.4444444444444444,
              "#bd3786"
             ],
             [
              0.5555555555555556,
              "#d8576b"
             ],
             [
              0.6666666666666666,
              "#ed7953"
             ],
             [
              0.7777777777777778,
              "#fb9f3a"
             ],
             [
              0.8888888888888888,
              "#fdca26"
             ],
             [
              1,
              "#f0f921"
             ]
            ],
            "type": "histogram2dcontour"
           }
          ],
          "mesh3d": [
           {
            "colorbar": {
             "outlinewidth": 0,
             "ticks": ""
            },
            "type": "mesh3d"
           }
          ],
          "parcoords": [
           {
            "line": {
             "colorbar": {
              "outlinewidth": 0,
              "ticks": ""
             }
            },
            "type": "parcoords"
           }
          ],
          "pie": [
           {
            "automargin": true,
            "type": "pie"
           }
          ],
          "scatter": [
           {
            "fillpattern": {
             "fillmode": "overlay",
             "size": 10,
             "solidity": 0.2
            },
            "type": "scatter"
           }
          ],
          "scatter3d": [
           {
            "line": {
             "colorbar": {
              "outlinewidth": 0,
              "ticks": ""
             }
            },
            "marker": {
             "colorbar": {
              "outlinewidth": 0,
              "ticks": ""
             }
            },
            "type": "scatter3d"
           }
          ],
          "scattercarpet": [
           {
            "marker": {
             "colorbar": {
              "outlinewidth": 0,
              "ticks": ""
             }
            },
            "type": "scattercarpet"
           }
          ],
          "scattergeo": [
           {
            "marker": {
             "colorbar": {
              "outlinewidth": 0,
              "ticks": ""
             }
            },
            "type": "scattergeo"
           }
          ],
          "scattergl": [
           {
            "marker": {
             "colorbar": {
              "outlinewidth": 0,
              "ticks": ""
             }
            },
            "type": "scattergl"
           }
          ],
          "scattermapbox": [
           {
            "marker": {
             "colorbar": {
              "outlinewidth": 0,
              "ticks": ""
             }
            },
            "type": "scattermapbox"
           }
          ],
          "scatterpolar": [
           {
            "marker": {
             "colorbar": {
              "outlinewidth": 0,
              "ticks": ""
             }
            },
            "type": "scatterpolar"
           }
          ],
          "scatterpolargl": [
           {
            "marker": {
             "colorbar": {
              "outlinewidth": 0,
              "ticks": ""
             }
            },
            "type": "scatterpolargl"
           }
          ],
          "scatterternary": [
           {
            "marker": {
             "colorbar": {
              "outlinewidth": 0,
              "ticks": ""
             }
            },
            "type": "scatterternary"
           }
          ],
          "surface": [
           {
            "colorbar": {
             "outlinewidth": 0,
             "ticks": ""
            },
            "colorscale": [
             [
              0,
              "#0d0887"
             ],
             [
              0.1111111111111111,
              "#46039f"
             ],
             [
              0.2222222222222222,
              "#7201a8"
             ],
             [
              0.3333333333333333,
              "#9c179e"
             ],
             [
              0.4444444444444444,
              "#bd3786"
             ],
             [
              0.5555555555555556,
              "#d8576b"
             ],
             [
              0.6666666666666666,
              "#ed7953"
             ],
             [
              0.7777777777777778,
              "#fb9f3a"
             ],
             [
              0.8888888888888888,
              "#fdca26"
             ],
             [
              1,
              "#f0f921"
             ]
            ],
            "type": "surface"
           }
          ],
          "table": [
           {
            "cells": {
             "fill": {
              "color": "#EBF0F8"
             },
             "line": {
              "color": "white"
             }
            },
            "header": {
             "fill": {
              "color": "#C8D4E3"
             },
             "line": {
              "color": "white"
             }
            },
            "type": "table"
           }
          ]
         },
         "layout": {
          "annotationdefaults": {
           "arrowcolor": "#2a3f5f",
           "arrowhead": 0,
           "arrowwidth": 1
          },
          "autotypenumbers": "strict",
          "coloraxis": {
           "colorbar": {
            "outlinewidth": 0,
            "ticks": ""
           }
          },
          "colorscale": {
           "diverging": [
            [
             0,
             "#8e0152"
            ],
            [
             0.1,
             "#c51b7d"
            ],
            [
             0.2,
             "#de77ae"
            ],
            [
             0.3,
             "#f1b6da"
            ],
            [
             0.4,
             "#fde0ef"
            ],
            [
             0.5,
             "#f7f7f7"
            ],
            [
             0.6,
             "#e6f5d0"
            ],
            [
             0.7,
             "#b8e186"
            ],
            [
             0.8,
             "#7fbc41"
            ],
            [
             0.9,
             "#4d9221"
            ],
            [
             1,
             "#276419"
            ]
           ],
           "sequential": [
            [
             0,
             "#0d0887"
            ],
            [
             0.1111111111111111,
             "#46039f"
            ],
            [
             0.2222222222222222,
             "#7201a8"
            ],
            [
             0.3333333333333333,
             "#9c179e"
            ],
            [
             0.4444444444444444,
             "#bd3786"
            ],
            [
             0.5555555555555556,
             "#d8576b"
            ],
            [
             0.6666666666666666,
             "#ed7953"
            ],
            [
             0.7777777777777778,
             "#fb9f3a"
            ],
            [
             0.8888888888888888,
             "#fdca26"
            ],
            [
             1,
             "#f0f921"
            ]
           ],
           "sequentialminus": [
            [
             0,
             "#0d0887"
            ],
            [
             0.1111111111111111,
             "#46039f"
            ],
            [
             0.2222222222222222,
             "#7201a8"
            ],
            [
             0.3333333333333333,
             "#9c179e"
            ],
            [
             0.4444444444444444,
             "#bd3786"
            ],
            [
             0.5555555555555556,
             "#d8576b"
            ],
            [
             0.6666666666666666,
             "#ed7953"
            ],
            [
             0.7777777777777778,
             "#fb9f3a"
            ],
            [
             0.8888888888888888,
             "#fdca26"
            ],
            [
             1,
             "#f0f921"
            ]
           ]
          },
          "colorway": [
           "#636efa",
           "#EF553B",
           "#00cc96",
           "#ab63fa",
           "#FFA15A",
           "#19d3f3",
           "#FF6692",
           "#B6E880",
           "#FF97FF",
           "#FECB52"
          ],
          "font": {
           "color": "#2a3f5f"
          },
          "geo": {
           "bgcolor": "white",
           "lakecolor": "white",
           "landcolor": "#E5ECF6",
           "showlakes": true,
           "showland": true,
           "subunitcolor": "white"
          },
          "hoverlabel": {
           "align": "left"
          },
          "hovermode": "closest",
          "mapbox": {
           "style": "light"
          },
          "paper_bgcolor": "white",
          "plot_bgcolor": "#E5ECF6",
          "polar": {
           "angularaxis": {
            "gridcolor": "white",
            "linecolor": "white",
            "ticks": ""
           },
           "bgcolor": "#E5ECF6",
           "radialaxis": {
            "gridcolor": "white",
            "linecolor": "white",
            "ticks": ""
           }
          },
          "scene": {
           "xaxis": {
            "backgroundcolor": "#E5ECF6",
            "gridcolor": "white",
            "gridwidth": 2,
            "linecolor": "white",
            "showbackground": true,
            "ticks": "",
            "zerolinecolor": "white"
           },
           "yaxis": {
            "backgroundcolor": "#E5ECF6",
            "gridcolor": "white",
            "gridwidth": 2,
            "linecolor": "white",
            "showbackground": true,
            "ticks": "",
            "zerolinecolor": "white"
           },
           "zaxis": {
            "backgroundcolor": "#E5ECF6",
            "gridcolor": "white",
            "gridwidth": 2,
            "linecolor": "white",
            "showbackground": true,
            "ticks": "",
            "zerolinecolor": "white"
           }
          },
          "shapedefaults": {
           "line": {
            "color": "#2a3f5f"
           }
          },
          "ternary": {
           "aaxis": {
            "gridcolor": "white",
            "linecolor": "white",
            "ticks": ""
           },
           "baxis": {
            "gridcolor": "white",
            "linecolor": "white",
            "ticks": ""
           },
           "bgcolor": "#E5ECF6",
           "caxis": {
            "gridcolor": "white",
            "linecolor": "white",
            "ticks": ""
           }
          },
          "title": {
           "x": 0.05
          },
          "xaxis": {
           "automargin": true,
           "gridcolor": "white",
           "linecolor": "white",
           "ticks": "",
           "title": {
            "standoff": 15
           },
           "zerolinecolor": "white",
           "zerolinewidth": 2
          },
          "yaxis": {
           "automargin": true,
           "gridcolor": "white",
           "linecolor": "white",
           "ticks": "",
           "title": {
            "standoff": 15
           },
           "zerolinecolor": "white",
           "zerolinewidth": 2
          }
         }
        },
        "title": {
         "text": "ESG Risk Heatmap (2025): Region vs Industry"
        },
        "width": 800,
        "xaxis": {
         "anchor": "y",
         "autorange": true,
         "domain": [
          0,
          1
         ],
         "range": [
          -0.5,
          8.5
         ],
         "tickangle": -45,
         "title": {
          "text": "industry"
         },
         "type": "category"
        },
        "yaxis": {
         "anchor": "x",
         "autorange": true,
         "domain": [
          0,
          1
         ],
         "range": [
          -0.5,
          6.5
         ],
         "title": {
          "text": "region"
         },
         "type": "category"
        }
       }
      },
      "image/png": "[encoded data removed]",
      "text/html": [
       "<div>                            <div id=\"4d1829f5-f942-4dbd-b9ea-01e230f47d53\" class=\"plotly-graph-div\" style=\"height:500px; width:800px;\"></div>            <script type=\"text/javascript\">                require([\"plotly\"], function(Plotly) {                    window.PLOTLYENV=window.PLOTLYENV || {};                                    if (document.getElementById(\"4d1829f5-f942-4dbd-b9ea-01e230f47d53\")) {                    Plotly.newPlot(                        \"4d1829f5-f942-4dbd-b9ea-01e230f47d53\",                        [{\"coloraxis\":\"coloraxis\",\"histfunc\":\"sum\",\"hovertemplate\":\"industry=%{x}<br>region=%{y}<br>sum of Avg Risk Score=%{z}<extra></extra>\",\"name\":\"\",\"x\":[\"Consumer Goods\",\"Energy\",\"Finance\",\"Healthcare\",\"Manufacturing\",\"Retail\",\"Technology\",\"Transportation\",\"Utilities\",\"Consumer Goods\",\"Energy\",\"Finance\",\"Healthcare\",\"Manufacturing\",\"Retail\",\"Technology\",\"Transportation\",\"Utilities\",\"Consumer Goods\",\"Energy\",\"Finance\",\"Healthcare\",\"Manufacturing\",\"Retail\",\"Technology\",\"Transportation\",\"Utilities\",\"Consumer Goods\",\"Energy\",\"Finance\",\"Healthcare\",\"Manufacturing\",\"Retail\",\"Technology\",\"Transportation\",\"Utilities\",\"Consumer Goods\",\"Energy\",\"Finance\",\"Healthcare\",\"Manufacturing\",\"Retail\",\"Technology\",\"Transportation\",\"Utilities\",\"Consumer Goods\",\"Energy\",\"Finance\",\"Healthcare\",\"Manufacturing\",\"Retail\",\"Technology\",\"Transportation\",\"Utilities\",\"Consumer Goods\",\"Energy\",\"Finance\",\"Healthcare\",\"Manufacturing\",\"Retail\",\"Technology\",\"Transportation\",\"Utilities\"],\"xaxis\":\"x\",\"xbingroup\":\"x\",\"y\":[\"Africa\",\"Africa\",\"Africa\",\"Africa\",\"Africa\",\"Africa\",\"Africa\",\"Africa\",\"Africa\",\"Asia\",\"Asia\",\"Asia\",\"Asia\",\"Asia\",\"Asia\",\"Asia\",\"Asia\",\"Asia\",\"Europe\",\"Europe\",\"Europe\",\"Europe\",\"Europe\",\"Europe\",\"Europe\",\"Europe\",\"Europe\",\"Latin America\",\"Latin America\",\"Latin America\",\"Latin America\",\"Latin America\",\"Latin America\",\"Latin America\",\"Latin America\",\"Latin America\",\"Middle East\",\"Middle East\",\"Middle East\",\"Middle East\",\"Middle East\",\"Middle East\",\"Middle East\",\"Middle East\",\"Middle East\",\"North America\",\"North America\",\"North America\",\"North America\",\"North America\",\"North America\",\"North America\",\"North America\",\"North America\",\"Oceania\",\"Oceania\",\"Oceania\",\"Oceania\",\"Oceania\",\"Oceania\",\"Oceania\",\"Oceania\",\"Oceania\"],\"yaxis\":\"y\",\"ybingroup\":\"y\",\"z\":[4.667057471264369,4.81800411522634,4.886283185840707,6.229345200254292,4.904740740740739,2.6057816711590314,4.966097744360902,4.331410256410255,5.515387575590985,2.5913793103448275,4.007435897435899,2.072458210422811,3.2624112785610118,2.8643209876543207,2.436497641509435,4.9580300751879705,1.9660535117056848,3.137102803738319,0.704109195402299,0.9390946502057615,0.6261504424778757,0.7847629404088734,1.2122222222222223,0.6525825471698119,0.35785714285714326,0.5721911421911419,1.1576305662451902,3.644159482758621,5.0768981481481505,2.256694690265485,3.1660072314049588,2.8046153846153845,3.078234501347711,3.5388803827751194,3.867834757834757,1.9668799424874202,6.384294670846396,5.6800308641975334,6.106194690265486,5.92667681600696,5.043271604938272,6.073605870020966,3.3240375939849627,5.480345596432551,4.143781931464176,1.1130490018148822,1.2766448801742931,0.6939006126616746,0.9446694214876035,1.7108771929824558,1.1054986522911057,1.014396284829722,0.3950000000000002,1.3714766355140187,1.3715804597701151,0.6245502645502652,0.9617846607669613,0.5372008623787281,1.325906432748538,1.6202830188679254,0.5735311004784692,1.7844729344729338,0.5142056074766357],\"type\":\"histogram2d\"}],                        {\"template\":{\"data\":{\"histogram2dcontour\":[{\"type\":\"histogram2dcontour\",\"colorbar\":{\"outlinewidth\":0,\"ticks\":\"\"},\"colorscale\":[[0.0,\"#0d0887\"],[0.1111111111111111,\"#46039f\"],[0.2222222222222222,\"#7201a8\"],[0.3333333333333333,\"#9c179e\"],[0.4444444444444444,\"#bd3786\"],[0.5555555555555556,\"#d8576b\"],[0.6666666666666666,\"#ed7953\"],[0.7777777777777778,\"#fb9f3a\"],[0.8888888888888888,\"#fdca26\"],[1.0,\"#f0f921\"]]}],\"choropleth\":[{\"type\":\"choropleth\",\"colorbar\":{\"outlinewidth\":0,\"ticks\":\"\"}}],\"histogram2d\":[{\"type\":\"histogram2d\",\"colorbar\":{\"outlinewidth\":0,\"ticks\":\"\"},\"colorscale\":[[0.0,\"#0d0887\"],[0.1111111111111111,\"#46039f\"],[0.2222222222222222,\"#7201a8\"],[0.3333333333333333,\"#9c179e\"],[0.4444444444444444,\"#bd3786\"],[0.5555555555555556,\"#d8576b\"],[0.6666666666666666,\"#ed7953\"],[0.7777777777777778,\"#fb9f3a\"],[0.8888888888888888,\"#fdca26\"],[1.0,\"#f0f921\"]]}],\"heatmap\":[{\"type\":\"heatmap\",\"colorbar\":{\"outlinewidth\":0,\"ticks\":\"\"},\"colorscale\":[[0.0,\"#0d0887\"],[0.1111111111111111,\"#46039f\"],[0.2222222222222222,\"#7201a8\"],[0.3333333333333333,\"#9c179e\"],[0.4444444444444444,\"#bd3786\"],[0.5555555555555556,\"#d8576b\"],[0.6666666666666666,\"#ed7953\"],[0.7777777777777778,\"#fb9f3a\"],[0.8888888888888888,\"#fdca26\"],[1.0,\"#f0f921\"]]}],\"heatmapgl\":[{\"type\":\"heatmapgl\",\"colorbar\":{\"outlinewidth\":0,\"ticks\":\"\"},\"colorscale\":[[0.0,\"#0d0887\"],[0.1111111111111111,\"#46039f\"],[0.2222222222222222,\"#7201a8\"],[0.3333333333333333,\"#9c179e\"],[0.4444444444444444,\"#bd3786\"],[0.5555555555555556,\"#d8576b\"],[0.6666666666666666,\"#ed7953\"],[0.7777777777777778,\"#fb9f3a\"],[0.8888888888888888,\"#fdca26\"],[1.0,\"#f0f921\"]]}],\"contourcarpet\":[{\"type\":\"contourcarpet\",\"colorbar\":{\"outlinewidth\":0,\"ticks\":\"\"}}],\"contour\":[{\"type\":\"contour\",\"colorbar\":{\"outlinewidth\":0,\"ticks\":\"\"},\"colorscale\":[[0.0,\"#0d0887\"],[0.1111111111111111,\"#46039f\"],[0.2222222222222222,\"#7201a8\"],[0.3333333333333333,\"#9c179e\"],[0.4444444444444444,\"#bd3786\"],[0.5555555555555556,\"#d8576b\"],[0.6666666666666666,\"#ed7953\"],[0.7777777777777778,\"#fb9f3a\"],[0.8888888888888888,\"#fdca26\"],[1.0,\"#f0f921\"]]}],\"surface\":[{\"type\":\"surface\",\"colorbar\":{\"outlinewidth\":0,\"ticks\":\"\"},\"colorscale\":[[0.0,\"#0d0887\"],[0.1111111111111111,\"#46039f\"],[0.2222222222222222,\"#7201a8\"],[0.3333333333333333,\"#9c179e\"],[0.4444444444444444,\"#bd3786\"],[0.5555555555555556,\"#d8576b\"],[0.6666666666666666,\"#ed7953\"],[0.7777777777777778,\"#fb9f3a\"],[0.8888888888888888,\"#fdca26\"],[1.0,\"#f0f921\"]]}],\"mesh3d\":[{\"type\":\"mesh3d\",\"colorbar\":{\"outlinewidth\":0,\"ticks\":\"\"}}],\"scatter\":[{\"fillpattern\":{\"fillmode\":\"overlay\",\"size\":10,\"solidity\":0.2},\"type\":\"scatter\"}],\"parcoords\":[{\"type\":\"parcoords\",\"line\":{\"colorbar\":{\"outlinewidth\":0,\"ticks\":\"\"}}}],\"scatterpolargl\":[{\"type\":\"scatterpolargl\",\"marker\":{\"colorbar\":{\"outlinewidth\":0,\"ticks\":\"\"}}}],\"bar\":[{\"error_x\":{\"color\":\"#2a3f5f\"},\"error_y\":{\"color\":\"#2a3f5f\"},\"marker\":{\"line\":{\"color\":\"#E5ECF6\",\"width\":0.5},\"pattern\":{\"fillmode\":\"overlay\",\"size\":10,\"solidity\":0.2}},\"type\":\"bar\"}],\"scattergeo\":[{\"type\":\"scattergeo\",\"marker\":{\"colorbar\":{\"outlinewidth\":0,\"ticks\":\"\"}}}],\"scatterpolar\":[{\"type\":\"scatterpolar\",\"marker\":{\"colorbar\":{\"outlinewidth\":0,\"ticks\":\"\"}}}],\"histogram\":[{\"marker\":{\"pattern\":{\"fillmode\":\"overlay\",\"size\":10,\"solidity\":0.2}},\"type\":\"histogram\"}],\"scattergl\":[{\"type\":\"scattergl\",\"marker\":{\"colorbar\":{\"outlinewidth\":0,\"ticks\":\"\"}}}],\"scatter3d\":[{\"type\":\"scatter3d\",\"line\":{\"colorbar\":{\"outlinewidth\":0,\"ticks\":\"\"}},\"marker\":{\"colorbar\":{\"outlinewidth\":0,\"ticks\":\"\"}}}],\"scattermapbox\":[{\"type\":\"scattermapbox\",\"marker\":{\"colorbar\":{\"outlinewidth\":0,\"ticks\":\"\"}}}],\"scatterternary\":[{\"type\":\"scatterternary\",\"marker\":{\"colorbar\":{\"outlinewidth\":0,\"ticks\":\"\"}}}],\"scattercarpet\":[{\"type\":\"scattercarpet\",\"marker\":{\"colorbar\":{\"outlinewidth\":0,\"ticks\":\"\"}}}],\"carpet\":[{\"aaxis\":{\"endlinecolor\":\"#2a3f5f\",\"gridcolor\":\"white\",\"linecolor\":\"white\",\"minorgridcolor\":\"white\",\"startlinecolor\":\"#2a3f5f\"},\"baxis\":{\"endlinecolor\":\"#2a3f5f\",\"gridcolor\":\"white\",\"linecolor\":\"white\",\"minorgridcolor\":\"white\",\"startlinecolor\":\"#2a3f5f\"},\"type\":\"carpet\"}],\"table\":[{\"cells\":{\"fill\":{\"color\":\"#EBF0F8\"},\"line\":{\"color\":\"white\"}},\"header\":{\"fill\":{\"color\":\"#C8D4E3\"},\"line\":{\"color\":\"white\"}},\"type\":\"table\"}],\"barpolar\":[{\"marker\":{\"line\":{\"color\":\"#E5ECF6\",\"width\":0.5},\"pattern\":{\"fillmode\":\"overlay\",\"size\":10,\"solidity\":0.2}},\"type\":\"barpolar\"}],\"pie\":[{\"automargin\":true,\"type\":\"pie\"}]},\"layout\":{\"autotypenumbers\":\"strict\",\"colorway\":[\"#636efa\",\"#EF553B\",\"#00cc96\",\"#ab63fa\",\"#FFA15A\",\"#19d3f3\",\"#FF6692\",\"#B6E880\",\"#FF97FF\",\"#FECB52\"],\"font\":{\"color\":\"#2a3f5f\"},\"hovermode\":\"closest\",\"hoverlabel\":{\"align\":\"left\"},\"paper_bgcolor\":\"white\",\"plot_bgcolor\":\"#E5ECF6\",\"polar\":{\"bgcolor\":\"#E5ECF6\",\"angularaxis\":{\"gridcolor\":\"white\",\"linecolor\":\"white\",\"ticks\":\"\"},\"radialaxis\":{\"gridcolor\":\"white\",\"linecolor\":\"white\",\"ticks\":\"\"}},\"ternary\":{\"bgcolor\":\"#E5ECF6\",\"aaxis\":{\"gridcolor\":\"white\",\"linecolor\":\"white\",\"ticks\":\"\"},\"baxis\":{\"gridcolor\":\"white\",\"linecolor\":\"white\",\"ticks\":\"\"},\"caxis\":{\"gridcolor\":\"white\",\"linecolor\":\"white\",\"ticks\":\"\"}},\"coloraxis\":{\"colorbar\":{\"outlinewidth\":0,\"ticks\":\"\"}},\"colorscale\":{\"sequential\":[[0.0,\"#0d0887\"],[0.1111111111111111,\"#46039f\"],[0.2222222222222222,\"#7201a8\"],[0.3333333333333333,\"#9c179e\"],[0.4444444444444444,\"#bd3786\"],[0.5555555555555556,\"#d8576b\"],[0.6666666666666666,\"#ed7953\"],[0.7777777777777778,\"#fb9f3a\"],[0.8888888888888888,\"#fdca26\"],[1.0,\"#f0f921\"]],\"sequentialminus\":[[0.0,\"#0d0887\"],[0.1111111111111111,\"#46039f\"],[0.2222222222222222,\"#7201a8\"],[0.3333333333333333,\"#9c179e\"],[0.4444444444444444,\"#bd3786\"],[0.5555555555555556,\"#d8576b\"],[0.6666666666666666,\"#ed7953\"],[0.7777777777777778,\"#fb9f3a\"],[0.8888888888888888,\"#fdca26\"],[1.0,\"#f0f921\"]],\"diverging\":[[0,\"#8e0152\"],[0.1,\"#c51b7d\"],[0.2,\"#de77ae\"],[0.3,\"#f1b6da\"],[0.4,\"#fde0ef\"],[0.5,\"#f7f7f7\"],[0.6,\"#e6f5d0\"],[0.7,\"#b8e186\"],[0.8,\"#7fbc41\"],[0.9,\"#4d9221\"],[1,\"#276419\"]]},\"xaxis\":{\"gridcolor\":\"white\",\"linecolor\":\"white\",\"ticks\":\"\",\"title\":{\"standoff\":15},\"zerolinecolor\":\"white\",\"automargin\":true,\"zerolinewidth\":2},\"yaxis\":{\"gridcolor\":\"white\",\"linecolor\":\"white\",\"ticks\":\"\",\"title\":{\"standoff\":15},\"zerolinecolor\":\"white\",\"automargin\":true,\"zerolinewidth\":2},\"scene\":{\"xaxis\":{\"backgroundcolor\":\"#E5ECF6\",\"gridcolor\":\"white\",\"linecolor\":\"white\",\"showbackground\":true,\"ticks\":\"\",\"zerolinecolor\":\"white\",\"gridwidth\":2},\"yaxis\":{\"backgroundcolor\":\"#E5ECF6\",\"gridcolor\":\"white\",\"linecolor\":\"white\",\"showbackground\":true,\"ticks\":\"\",\"zerolinecolor\":\"white\",\"gridwidth\":2},\"zaxis\":{\"backgroundcolor\":\"#E5ECF6\",\"gridcolor\":\"white\",\"linecolor\":\"white\",\"showbackground\":true,\"ticks\":\"\",\"zerolinecolor\":\"white\",\"gridwidth\":2}},\"shapedefaults\":{\"line\":{\"color\":\"#2a3f5f\"}},\"annotationdefaults\":{\"arrowcolor\":\"#2a3f5f\",\"arrowhead\":0,\"arrowwidth\":1},\"geo\":{\"bgcolor\":\"white\",\"landcolor\":\"#E5ECF6\",\"subunitcolor\":\"white\",\"showland\":true,\"showlakes\":true,\"lakecolor\":\"white\"},\"title\":{\"x\":0.05},\"mapbox\":{\"style\":\"light\"}}},\"xaxis\":{\"anchor\":\"y\",\"domain\":[0.0,1.0],\"title\":{\"text\":\"industry\"},\"tickangle\":-45},\"yaxis\":{\"anchor\":\"x\",\"domain\":[0.0,1.0],\"title\":{\"text\":\"region\"}},\"coloraxis\":{\"colorbar\":{\"title\":{\"text\":\"sum of Avg Risk Score\"}},\"colorscale\":[[0.0,\"rgb(255,245,240)\"],[0.125,\"rgb(254,224,210)\"],[0.25,\"rgb(252,187,161)\"],[0.375,\"rgb(252,146,114)\"],[0.5,\"rgb(251,106,74)\"],[0.625,\"rgb(239,59,44)\"],[0.75,\"rgb(203,24,29)\"],[0.875,\"rgb(165,15,21)\"],[1.0,\"rgb(103,0,13)\"]]},\"legend\":{\"tracegroupgap\":0},\"title\":{\"text\":\"ESG Risk Heatmap (2025): Region vs Industry\"},\"width\":800,\"height\":500},                        {\"responsive\": true}                    ).then(function(){\n",
       "                            \n",
       "var gd = document.getElementById('4d1829f5-f942-4dbd-b9ea-01e230f47d53');\n",
       "var x = new MutationObserver(function (mutations, observer) {{\n",
       "        var display = window.getComputedStyle(gd).display;\n",
       "        if (!display || display === 'none') {{\n",
       "            console.log([gd, 'removed!']);\n",
       "            Plotly.purge(gd);\n",
       "            observer.disconnect();\n",
       "        }}\n",
       "}});\n",
       "\n",
       "// Listen for the removal of the full notebook cells\n",
       "var notebookContainer = gd.closest('#notebook-container');\n",
       "if (notebookContainer) {{\n",
       "    x.observe(notebookContainer, {childList: true});\n",
       "}}\n",
       "\n",
       "// Listen for the clearing of the current output cell\n",
       "var outputEl = gd.closest('.output');\n",
       "if (outputEl) {{\n",
       "    x.observe(outputEl, {childList: true});\n",
       "}}\n",
       "\n",
       "                        })                };                });            </script>        </div>"
      ]
     },
     "metadata": {},
     "output_type": "display_data"
    }
   ],
   "source": [
    "import plotly.express as px\n",
    "import plotly.graph_objects as go\n",
    "\n",
    "# Filter for 2025 and select key columns\n",
    "dashboard_df = latest_df[['industry', 'region', 'risk_score']].copy()\n",
    "\n",
    "# Calculate average risk score per (Region × Industry)\n",
    "heatmap_data = dashboard_df.groupby(['region', 'industry'])['risk_score'].mean().reset_index()\n",
    "\n",
    "# Create heatmap\n",
    "fig = px.density_heatmap(\n",
    "    heatmap_data,\n",
    "    x='industry',\n",
    "    y='region',\n",
    "    z='risk_score',\n",
    "    color_continuous_scale='Reds',\n",
    "    title='ESG Risk Heatmap (2025): Region vs Industry',\n",
    "    labels={'risk_score': 'Avg Risk Score'}\n",
    ")\n",
    "\n",
    "# Improve layout\n",
    "fig.update_layout(\n",
    "    width=800,\n",
    "    height=500,\n",
    "    xaxis_tickangle=-45\n",
    ")\n",
    "\n",
    "# Show the plot\n",
    "fig.show()"
   ]
  },
  {
   "cell_type": "code",
   "execution_count": 22,
   "id": "9aed8208-9050-4365-91a7-35e27b815ef5",
   "metadata": {},
   "outputs": [
    {
     "name": "stdout",
     "output_type": "stream",
     "text": [
      " Top 10 High-Risk Companies (2025):\n",
      "     company_name        industry         region  esg_overall  risk_score\n",
      "2617  Company_311  Consumer Goods    Middle East         14.3   20.629655\n",
      "9063   Company_84  Consumer Goods    Middle East         18.1   19.109655\n",
      "3376  Company_374      Healthcare         Africa         23.8   17.875124\n",
      "1209  Company_197          Energy  Latin America         19.1   16.341852\n",
      "4784   Company_49          Retail    Middle East         18.7   16.285660\n",
      "5928  Company_583      Healthcare         Africa         28.4   15.855124\n",
      "9525  Company_878  Consumer Goods           Asia         26.6   15.709655\n",
      "1308  Company_204          Retail    Middle East         27.6   15.605660\n",
      "5356  Company_536  Transportation    Middle East         18.3   15.554103\n",
      "5499  Company_548          Retail    Middle East         29.1   15.215660\n"
     ]
    }
   ],
   "source": [
    "# Step 1: Ensure data is sorted by company and year\n",
    "df = df.sort_values(['company_name', 'year']).reset_index(drop=True)\n",
    "\n",
    "# Step 2: Calculate ESG trend (1-year change)\n",
    "df['esg_trend'] = df.groupby('company_name')['esg_overall'].diff()\n",
    "\n",
    "# Step 3: Calculate industry average ESG (by year + industry)\n",
    "df['industry_avg_esg'] = df.groupby(['industry', 'year'])['esg_overall'].transform('mean')\n",
    "\n",
    "# Step 4: Calculate ESG gap (company vs industry)\n",
    "df['esg_gap'] = df['esg_overall'] - df['industry_avg_esg']\n",
    "\n",
    "# Step 5: Calculate financial stress proxy using AVAILABLE columns\n",
    "df['profit_trend'] = df.groupby('company_name')['profit_margin'].diff()\n",
    "df['market_cap_trend'] = df.groupby('company_name')['market_cap'].diff()\n",
    "\n",
    "# Financial stress = profit margin falling AND market cap falling\n",
    "financial_stress_flag = (\n",
    "    (df['profit_trend'] < 0) & \n",
    "    (df['market_cap_trend'] < 0)\n",
    ").astype(int) * 10  # Add 10 points if both are declining\n",
    "\n",
    "# Step 6: Define Risk Score (higher = higher risk)\n",
    "df['risk_score'] = (\n",
    "    0.4 * df['esg_gap'].clip(upper=0).abs() +        # Penalize if BELOW industry ESG\n",
    "    0.3 * df['esg_trend'].clip(upper=0).abs() +      # Penalize if ESG is DECLINING\n",
    "    0.3 * financial_stress_flag                      # Penalize if financial stress detected\n",
    ")\n",
    "\n",
    "# Step 7: Focus on latest year (2025) for dashboard\n",
    "latest_df = df[df['year'] == 2025].copy()\n",
    "\n",
    "# Step 8: Show top 10 high-risk companies\n",
    "print(\" Top 10 High-Risk Companies (2025):\")\n",
    "print(latest_df[['company_name', 'industry', 'region', 'esg_overall', 'risk_score']]\n",
    "      .sort_values('risk_score', ascending=False)\n",
    "      .head(10))"
   ]
  },
  {
   "cell_type": "code",
   "execution_count": 23,
   "id": "b07971b0-1732-4e16-b041-a93ba5ea3c4d",
   "metadata": {},
   "outputs": [
    {
     "ename": "KeyError",
     "evalue": "'governance_score'",
     "output_type": "error",
     "traceback": [
      "\u001b[1;31m---------------------------------------------------------------------------\u001b[0m",
      "\u001b[1;31mKeyError\u001b[0m                                  Traceback (most recent call last)",
      "File \u001b[1;32m~\\AppData\\Roaming\\Python\\Python311\\site-packages\\pandas\\core\\indexes\\base.py:3805\u001b[0m, in \u001b[0;36mIndex.get_loc\u001b[1;34m(self, key)\u001b[0m\n\u001b[0;32m   3804\u001b[0m \u001b[38;5;28;01mtry\u001b[39;00m:\n\u001b[1;32m-> 3805\u001b[0m     \u001b[38;5;28;01mreturn\u001b[39;00m \u001b[38;5;28mself\u001b[39m\u001b[38;5;241m.\u001b[39m_engine\u001b[38;5;241m.\u001b[39mget_loc(casted_key)\n\u001b[0;32m   3806\u001b[0m \u001b[38;5;28;01mexcept\u001b[39;00m \u001b[38;5;167;01mKeyError\u001b[39;00m \u001b[38;5;28;01mas\u001b[39;00m err:\n",
      "File \u001b[1;32mindex.pyx:167\u001b[0m, in \u001b[0;36mpandas._libs.index.IndexEngine.get_loc\u001b[1;34m()\u001b[0m\n",
      "File \u001b[1;32mindex.pyx:196\u001b[0m, in \u001b[0;36mpandas._libs.index.IndexEngine.get_loc\u001b[1;34m()\u001b[0m\n",
      "File \u001b[1;32mpandas\\\\_libs\\\\hashtable_class_helper.pxi:7081\u001b[0m, in \u001b[0;36mpandas._libs.hashtable.PyObjectHashTable.get_item\u001b[1;34m()\u001b[0m\n",
      "File \u001b[1;32mpandas\\\\_libs\\\\hashtable_class_helper.pxi:7089\u001b[0m, in \u001b[0;36mpandas._libs.hashtable.PyObjectHashTable.get_item\u001b[1;34m()\u001b[0m\n",
      "\u001b[1;31mKeyError\u001b[0m: 'governance_score'",
      "\nThe above exception was the direct cause of the following exception:\n",
      "\u001b[1;31mKeyError\u001b[0m                                  Traceback (most recent call last)",
      "Cell \u001b[1;32mIn[23], line 39\u001b[0m\n\u001b[0;32m     29\u001b[0m df[\u001b[38;5;124m'\u001b[39m\u001b[38;5;124mfinancial_stress\u001b[39m\u001b[38;5;124m'\u001b[39m] \u001b[38;5;241m=\u001b[39m (\n\u001b[0;32m     30\u001b[0m     (df[\u001b[38;5;124m'\u001b[39m\u001b[38;5;124mprofit_trend\u001b[39m\u001b[38;5;124m'\u001b[39m] \u001b[38;5;241m<\u001b[39m \u001b[38;5;241m0\u001b[39m) \u001b[38;5;241m&\u001b[39m (df[\u001b[38;5;124m'\u001b[39m\u001b[38;5;124mmarket_cap_volatility\u001b[39m\u001b[38;5;124m'\u001b[39m]\u001b[38;5;241m.\u001b[39mfillna(\u001b[38;5;241m0\u001b[39m) \u001b[38;5;241m>\u001b[39m \u001b[38;5;241m0.1\u001b[39m)\n\u001b[0;32m     31\u001b[0m )\u001b[38;5;241m.\u001b[39mastype(\u001b[38;5;28mint\u001b[39m)\n\u001b[0;32m     33\u001b[0m \u001b[38;5;66;03m# A7: Final risk score (0-100)\u001b[39;00m\n\u001b[0;32m     34\u001b[0m df[\u001b[38;5;124m'\u001b[39m\u001b[38;5;124mrisk_score\u001b[39m\u001b[38;5;124m'\u001b[39m] \u001b[38;5;241m=\u001b[39m (\n\u001b[0;32m     35\u001b[0m     \u001b[38;5;241m0.25\u001b[39m \u001b[38;5;241m*\u001b[39m (\u001b[38;5;241m1\u001b[39m \u001b[38;5;241m-\u001b[39m df[\u001b[38;5;124m'\u001b[39m\u001b[38;5;124mesg_percentile\u001b[39m\u001b[38;5;124m'\u001b[39m]) \u001b[38;5;241m*\u001b[39m \u001b[38;5;241m100\u001b[39m \u001b[38;5;241m+\u001b[39m\n\u001b[0;32m     36\u001b[0m     \u001b[38;5;241m0.20\u001b[39m \u001b[38;5;241m*\u001b[39m df[\u001b[38;5;124m'\u001b[39m\u001b[38;5;124mesg_volatility\u001b[39m\u001b[38;5;124m'\u001b[39m]\u001b[38;5;241m.\u001b[39mfillna(\u001b[38;5;241m0\u001b[39m) \u001b[38;5;241m*\u001b[39m \u001b[38;5;241m10\u001b[39m \u001b[38;5;241m+\u001b[39m\n\u001b[0;32m     37\u001b[0m     \u001b[38;5;241m0.20\u001b[39m \u001b[38;5;241m*\u001b[39m df[\u001b[38;5;124m'\u001b[39m\u001b[38;5;124mprofit_esg_divergence\u001b[39m\u001b[38;5;124m'\u001b[39m] \u001b[38;5;241m*\u001b[39m \u001b[38;5;241m15\u001b[39m \u001b[38;5;241m+\u001b[39m\n\u001b[0;32m     38\u001b[0m     \u001b[38;5;241m0.20\u001b[39m \u001b[38;5;241m*\u001b[39m df[\u001b[38;5;124m'\u001b[39m\u001b[38;5;124mfinancial_stress\u001b[39m\u001b[38;5;124m'\u001b[39m] \u001b[38;5;241m*\u001b[39m \u001b[38;5;241m20\u001b[39m \u001b[38;5;241m+\u001b[39m\n\u001b[1;32m---> 39\u001b[0m     \u001b[38;5;241m0.15\u001b[39m \u001b[38;5;241m*\u001b[39m (df[\u001b[38;5;124m'\u001b[39m\u001b[38;5;124mgovernance_score\u001b[39m\u001b[38;5;124m'\u001b[39m] \u001b[38;5;241m<\u001b[39m df[\u001b[38;5;124m'\u001b[39m\u001b[38;5;124mgovernance_score\u001b[39m\u001b[38;5;124m'\u001b[39m]\u001b[38;5;241m.\u001b[39mquantile(\u001b[38;5;241m0.3\u001b[39m))\u001b[38;5;241m.\u001b[39mastype(\u001b[38;5;28mint\u001b[39m) \u001b[38;5;241m*\u001b[39m \u001b[38;5;241m10\u001b[39m\n\u001b[0;32m     40\u001b[0m )\n\u001b[0;32m     42\u001b[0m \u001b[38;5;66;03m# Focus on 2025\u001b[39;00m\n\u001b[0;32m     43\u001b[0m latest_df \u001b[38;5;241m=\u001b[39m df[df[\u001b[38;5;124m'\u001b[39m\u001b[38;5;124myear\u001b[39m\u001b[38;5;124m'\u001b[39m] \u001b[38;5;241m==\u001b[39m \u001b[38;5;241m2025\u001b[39m]\u001b[38;5;241m.\u001b[39mcopy()\n",
      "File \u001b[1;32m~\\AppData\\Roaming\\Python\\Python311\\site-packages\\pandas\\core\\frame.py:4102\u001b[0m, in \u001b[0;36mDataFrame.__getitem__\u001b[1;34m(self, key)\u001b[0m\n\u001b[0;32m   4100\u001b[0m \u001b[38;5;28;01mif\u001b[39;00m \u001b[38;5;28mself\u001b[39m\u001b[38;5;241m.\u001b[39mcolumns\u001b[38;5;241m.\u001b[39mnlevels \u001b[38;5;241m>\u001b[39m \u001b[38;5;241m1\u001b[39m:\n\u001b[0;32m   4101\u001b[0m     \u001b[38;5;28;01mreturn\u001b[39;00m \u001b[38;5;28mself\u001b[39m\u001b[38;5;241m.\u001b[39m_getitem_multilevel(key)\n\u001b[1;32m-> 4102\u001b[0m indexer \u001b[38;5;241m=\u001b[39m \u001b[38;5;28mself\u001b[39m\u001b[38;5;241m.\u001b[39mcolumns\u001b[38;5;241m.\u001b[39mget_loc(key)\n\u001b[0;32m   4103\u001b[0m \u001b[38;5;28;01mif\u001b[39;00m is_integer(indexer):\n\u001b[0;32m   4104\u001b[0m     indexer \u001b[38;5;241m=\u001b[39m [indexer]\n",
      "File \u001b[1;32m~\\AppData\\Roaming\\Python\\Python311\\site-packages\\pandas\\core\\indexes\\base.py:3812\u001b[0m, in \u001b[0;36mIndex.get_loc\u001b[1;34m(self, key)\u001b[0m\n\u001b[0;32m   3807\u001b[0m     \u001b[38;5;28;01mif\u001b[39;00m \u001b[38;5;28misinstance\u001b[39m(casted_key, \u001b[38;5;28mslice\u001b[39m) \u001b[38;5;129;01mor\u001b[39;00m (\n\u001b[0;32m   3808\u001b[0m         \u001b[38;5;28misinstance\u001b[39m(casted_key, abc\u001b[38;5;241m.\u001b[39mIterable)\n\u001b[0;32m   3809\u001b[0m         \u001b[38;5;129;01mand\u001b[39;00m \u001b[38;5;28many\u001b[39m(\u001b[38;5;28misinstance\u001b[39m(x, \u001b[38;5;28mslice\u001b[39m) \u001b[38;5;28;01mfor\u001b[39;00m x \u001b[38;5;129;01min\u001b[39;00m casted_key)\n\u001b[0;32m   3810\u001b[0m     ):\n\u001b[0;32m   3811\u001b[0m         \u001b[38;5;28;01mraise\u001b[39;00m InvalidIndexError(key)\n\u001b[1;32m-> 3812\u001b[0m     \u001b[38;5;28;01mraise\u001b[39;00m \u001b[38;5;167;01mKeyError\u001b[39;00m(key) \u001b[38;5;28;01mfrom\u001b[39;00m \u001b[38;5;21;01merr\u001b[39;00m\n\u001b[0;32m   3813\u001b[0m \u001b[38;5;28;01mexcept\u001b[39;00m \u001b[38;5;167;01mTypeError\u001b[39;00m:\n\u001b[0;32m   3814\u001b[0m     \u001b[38;5;66;03m# If we have a listlike key, _check_indexing_error will raise\u001b[39;00m\n\u001b[0;32m   3815\u001b[0m     \u001b[38;5;66;03m#  InvalidIndexError. Otherwise we fall through and re-raise\u001b[39;00m\n\u001b[0;32m   3816\u001b[0m     \u001b[38;5;66;03m#  the TypeError.\u001b[39;00m\n\u001b[0;32m   3817\u001b[0m     \u001b[38;5;28mself\u001b[39m\u001b[38;5;241m.\u001b[39m_check_indexing_error(key)\n",
      "\u001b[1;31mKeyError\u001b[0m: 'governance_score'"
     ]
    }
   ],
   "source": [
    "# STEP A: Advanced ESG Risk Scoring Model (Accenture Japan Edition)\n",
    "\n",
    "# Ensure data is sorted\n",
    "df = df.sort_values(['company_name', 'year']).reset_index(drop=True)\n",
    "\n",
    "# A1: ESG trend and profit trend\n",
    "df['esg_trend'] = df.groupby('company_name')['esg_overall'].diff()\n",
    "df['profit_trend'] = df.groupby('company_name')['profit_margin'].diff()\n",
    "\n",
    "# A2: ESG volatility (3-year rolling std)\n",
    "df['esg_volatility'] = df.groupby('company_name')['esg_overall'].transform(\n",
    "    lambda x: x.rolling(window=3, min_periods=2).std()\n",
    ")\n",
    "\n",
    "# A3: Industry percentile rank\n",
    "df['esg_percentile'] = df.groupby(['industry', 'year'])['esg_overall'].rank(pct=True)\n",
    "\n",
    "# A4: Profit-ESG divergence (greenwashing signal)\n",
    "df['profit_esg_divergence'] = (\n",
    "    (df['esg_trend'] < 0) & (df['profit_trend'] > 0)\n",
    ").astype(int)\n",
    "\n",
    "# A5: Market cap volatility\n",
    "df['market_cap_volatility'] = df.groupby('company_name')['market_cap'].transform(\n",
    "    lambda x: x.rolling(3, min_periods=2).std() / x.rolling(3, min_periods=2).mean()\n",
    ")\n",
    "\n",
    "# A6: Financial stress flag\n",
    "df['financial_stress'] = (\n",
    "    (df['profit_trend'] < 0) & (df['market_cap_volatility'].fillna(0) > 0.1)\n",
    ").astype(int)\n",
    "\n",
    "# A7: Final risk score (0-100)\n",
    "df['risk_score'] = (\n",
    "    0.25 * (1 - df['esg_percentile']) * 100 +\n",
    "    0.20 * df['esg_volatility'].fillna(0) * 10 +\n",
    "    0.20 * df['profit_esg_divergence'] * 15 +\n",
    "    0.20 * df['financial_stress'] * 20 +\n",
    "    0.15 * (df['governance_score'] < df['governance_score'].quantile(0.3)).astype(int) * 10\n",
    ")\n",
    "\n",
    "# Focus on 2025\n",
    "latest_df = df[df['year'] == 2025].copy()\n",
    "\n",
    "# Show top 10 high-risk companies\n",
    "print(\"⚠ Top 10 High-Risk Companies (2025):\")\n",
    "print(latest_df[['company_name', 'industry', 'region', 'esg_overall', 'risk_score', 'governance_score']]\n",
    "      .sort_values('risk_score', ascending=False)\n",
    "      .head(10))"
   ]
  },
  {
   "cell_type": "code",
   "execution_count": null,
   "id": "b355a673-82e7-40ed-9677-70dc7862b721",
   "metadata": {},
   "outputs": [],
   "source": []
  }
 ],
 "metadata": {
  "kernelspec": {
   "display_name": "Python 3 (ipykernel)",
   "language": "python",
   "name": "python3"
  },
  "language_info": {
   "codemirror_mode": {
    "name": "ipython",
    "version": 3
   },
   "file_extension": ".py",
   "mimetype": "text/x-python",
   "name": "python",
   "nbconvert_exporter": "python",
   "pygments_lexer": "ipython3",
   "version": "3.11.7"
  }
 },
 "nbformat": 4,
 "nbformat_minor": 5
}
